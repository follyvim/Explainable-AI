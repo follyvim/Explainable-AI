{
 "cells": [
  {
   "cell_type": "code",
   "execution_count": 1,
   "id": "33c30e2c-1b50-4be3-a6d9-01d9662f8ca3",
   "metadata": {},
   "outputs": [],
   "source": [
    "import pandas as pd\n",
    "import numpy as np\n",
    "from sklearn.ensemble import RandomForestClassifier, AdaBoostClassifier,VotingClassifier\n",
    "from sklearn.tree import DecisionTreeClassifier,plot_tree\n",
    "from sklearn.linear_model import LogisticRegression\n",
    "from sklearn.metrics import classification_report,confusion_matrix\n",
    "from sklearn.preprocessing import StandardScaler\n",
    "from sklearn.model_selection import train_test_split,GridSearchCV\n",
    "from sklearn.feature_selection import SelectKBest\n",
    "%matplotlib inline\n",
    "import matplotlib.pyplot as plt\n",
    "import shap\n",
    "import seaborn as sns"
   ]
  },
  {
   "cell_type": "code",
   "execution_count": 2,
   "id": "336b1407-91ad-474d-925d-bf4272cf2a3e",
   "metadata": {},
   "outputs": [
    {
     "data": {
      "text/html": [
       "<div>\n",
       "<style scoped>\n",
       "    .dataframe tbody tr th:only-of-type {\n",
       "        vertical-align: middle;\n",
       "    }\n",
       "\n",
       "    .dataframe tbody tr th {\n",
       "        vertical-align: top;\n",
       "    }\n",
       "\n",
       "    .dataframe thead th {\n",
       "        text-align: right;\n",
       "    }\n",
       "</style>\n",
       "<table border=\"1\" class=\"dataframe\">\n",
       "  <thead>\n",
       "    <tr style=\"text-align: right;\">\n",
       "      <th></th>\n",
       "      <th>region_area_</th>\n",
       "      <th>ph</th>\n",
       "      <th>Hardness</th>\n",
       "      <th>Solids</th>\n",
       "      <th>Chloramines</th>\n",
       "      <th>Sulfate</th>\n",
       "      <th>Conductivity</th>\n",
       "      <th>Organic_carbon</th>\n",
       "      <th>Trihalomethanes</th>\n",
       "      <th>Turbidity</th>\n",
       "      <th>Potability</th>\n",
       "    </tr>\n",
       "  </thead>\n",
       "  <tbody>\n",
       "    <tr>\n",
       "      <th>0</th>\n",
       "      <td>region_area_1</td>\n",
       "      <td>3.716080</td>\n",
       "      <td>180.196811</td>\n",
       "      <td>18630.362669</td>\n",
       "      <td>6.330435</td>\n",
       "      <td>NaN</td>\n",
       "      <td>602.990359</td>\n",
       "      <td>15.285013</td>\n",
       "      <td>56.444076</td>\n",
       "      <td>4.500656</td>\n",
       "      <td>0</td>\n",
       "    </tr>\n",
       "    <tr>\n",
       "      <th>1</th>\n",
       "      <td>region_area_100</td>\n",
       "      <td>4.270716</td>\n",
       "      <td>217.611599</td>\n",
       "      <td>24405.555346</td>\n",
       "      <td>7.086700</td>\n",
       "      <td>297.951852</td>\n",
       "      <td>359.623910</td>\n",
       "      <td>13.583526</td>\n",
       "      <td>54.589840</td>\n",
       "      <td>3.763906</td>\n",
       "      <td>0</td>\n",
       "    </tr>\n",
       "    <tr>\n",
       "      <th>2</th>\n",
       "      <td>region_area_1000</td>\n",
       "      <td>6.648849</td>\n",
       "      <td>232.462013</td>\n",
       "      <td>30733.808648</td>\n",
       "      <td>5.656462</td>\n",
       "      <td>344.670335</td>\n",
       "      <td>267.809179</td>\n",
       "      <td>17.863444</td>\n",
       "      <td>35.411181</td>\n",
       "      <td>4.827527</td>\n",
       "      <td>0</td>\n",
       "    </tr>\n",
       "    <tr>\n",
       "      <th>3</th>\n",
       "      <td>region_area_1001</td>\n",
       "      <td>NaN</td>\n",
       "      <td>261.753637</td>\n",
       "      <td>21174.713291</td>\n",
       "      <td>7.314074</td>\n",
       "      <td>NaN</td>\n",
       "      <td>582.848407</td>\n",
       "      <td>15.215849</td>\n",
       "      <td>90.367455</td>\n",
       "      <td>4.217553</td>\n",
       "      <td>0</td>\n",
       "    </tr>\n",
       "    <tr>\n",
       "      <th>4</th>\n",
       "      <td>region_area_1002</td>\n",
       "      <td>9.323584</td>\n",
       "      <td>263.484560</td>\n",
       "      <td>15751.480111</td>\n",
       "      <td>5.196259</td>\n",
       "      <td>297.593625</td>\n",
       "      <td>409.878704</td>\n",
       "      <td>10.727265</td>\n",
       "      <td>74.669285</td>\n",
       "      <td>3.006650</td>\n",
       "      <td>0</td>\n",
       "    </tr>\n",
       "  </tbody>\n",
       "</table>\n",
       "</div>"
      ],
      "text/plain": [
       "       region_area_        ph    Hardness        Solids  Chloramines  \\\n",
       "0     region_area_1  3.716080  180.196811  18630.362669     6.330435   \n",
       "1   region_area_100  4.270716  217.611599  24405.555346     7.086700   \n",
       "2  region_area_1000  6.648849  232.462013  30733.808648     5.656462   \n",
       "3  region_area_1001       NaN  261.753637  21174.713291     7.314074   \n",
       "4  region_area_1002  9.323584  263.484560  15751.480111     5.196259   \n",
       "\n",
       "      Sulfate  Conductivity  Organic_carbon  Trihalomethanes  Turbidity  \\\n",
       "0         NaN    602.990359       15.285013        56.444076   4.500656   \n",
       "1  297.951852    359.623910       13.583526        54.589840   3.763906   \n",
       "2  344.670335    267.809179       17.863444        35.411181   4.827527   \n",
       "3         NaN    582.848407       15.215849        90.367455   4.217553   \n",
       "4  297.593625    409.878704       10.727265        74.669285   3.006650   \n",
       "\n",
       "   Potability  \n",
       "0           0  \n",
       "1           0  \n",
       "2           0  \n",
       "3           0  \n",
       "4           0  "
      ]
     },
     "execution_count": 2,
     "metadata": {},
     "output_type": "execute_result"
    }
   ],
   "source": [
    "data = pd.read_csv('water potability data-Copy1.csv')\n",
    "data.head()"
   ]
  },
  {
   "cell_type": "code",
   "execution_count": 3,
   "id": "299c77dd-c5e6-490d-85ee-c4369badfc30",
   "metadata": {},
   "outputs": [
    {
     "data": {
      "text/plain": [
       "region_area_         0\n",
       "ph                 336\n",
       "Hardness             0\n",
       "Solids               0\n",
       "Chloramines          0\n",
       "Sulfate            547\n",
       "Conductivity         0\n",
       "Organic_carbon       0\n",
       "Trihalomethanes    111\n",
       "Turbidity            0\n",
       "Potability           0\n",
       "dtype: int64"
      ]
     },
     "execution_count": 3,
     "metadata": {},
     "output_type": "execute_result"
    }
   ],
   "source": [
    "data.isnull().sum()"
   ]
  },
  {
   "cell_type": "code",
   "execution_count": 4,
   "id": "cce0694e-78b4-4149-ada7-1833ad8338d0",
   "metadata": {},
   "outputs": [
    {
     "name": "stdout",
     "output_type": "stream",
     "text": [
      "<class 'pandas.core.frame.DataFrame'>\n",
      "RangeIndex: 2260 entries, 0 to 2259\n",
      "Data columns (total 11 columns):\n",
      " #   Column           Non-Null Count  Dtype  \n",
      "---  ------           --------------  -----  \n",
      " 0   region_area_     2260 non-null   object \n",
      " 1   ph               1924 non-null   float64\n",
      " 2   Hardness         2260 non-null   float64\n",
      " 3   Solids           2260 non-null   float64\n",
      " 4   Chloramines      2260 non-null   float64\n",
      " 5   Sulfate          1713 non-null   float64\n",
      " 6   Conductivity     2260 non-null   float64\n",
      " 7   Organic_carbon   2260 non-null   float64\n",
      " 8   Trihalomethanes  2149 non-null   float64\n",
      " 9   Turbidity        2260 non-null   float64\n",
      " 10  Potability       2260 non-null   int64  \n",
      "dtypes: float64(9), int64(1), object(1)\n",
      "memory usage: 194.3+ KB\n"
     ]
    }
   ],
   "source": [
    "data.info()"
   ]
  },
  {
   "cell_type": "code",
   "execution_count": 5,
   "id": "cde35807-d2f7-439a-9c85-1313a5dfd575",
   "metadata": {},
   "outputs": [],
   "source": [
    "data.fillna(data['ph'].mode()[0],inplace = True)\n",
    "data.fillna(data['Sulfate'].mode()[0],inplace = True)\n",
    "data.fillna(data['Trihalomethanes'].mode()[0],inplace = True)"
   ]
  },
  {
   "cell_type": "code",
   "execution_count": 6,
   "id": "c6e4db7d-e2c4-4efa-9e2a-416c29deb148",
   "metadata": {},
   "outputs": [
    {
     "name": "stdout",
     "output_type": "stream",
     "text": [
      "<class 'pandas.core.frame.DataFrame'>\n",
      "RangeIndex: 2260 entries, 0 to 2259\n",
      "Data columns (total 11 columns):\n",
      " #   Column           Non-Null Count  Dtype  \n",
      "---  ------           --------------  -----  \n",
      " 0   region_area_     2260 non-null   object \n",
      " 1   ph               2260 non-null   float64\n",
      " 2   Hardness         2260 non-null   float64\n",
      " 3   Solids           2260 non-null   float64\n",
      " 4   Chloramines      2260 non-null   float64\n",
      " 5   Sulfate          2260 non-null   float64\n",
      " 6   Conductivity     2260 non-null   float64\n",
      " 7   Organic_carbon   2260 non-null   float64\n",
      " 8   Trihalomethanes  2260 non-null   float64\n",
      " 9   Turbidity        2260 non-null   float64\n",
      " 10  Potability       2260 non-null   int64  \n",
      "dtypes: float64(9), int64(1), object(1)\n",
      "memory usage: 194.3+ KB\n"
     ]
    }
   ],
   "source": [
    "data.info()"
   ]
  },
  {
   "cell_type": "code",
   "execution_count": 7,
   "id": "7a6d46be-030e-4b00-974e-c8a9f2ad896b",
   "metadata": {},
   "outputs": [
    {
     "data": {
      "text/html": [
       "<div>\n",
       "<style scoped>\n",
       "    .dataframe tbody tr th:only-of-type {\n",
       "        vertical-align: middle;\n",
       "    }\n",
       "\n",
       "    .dataframe tbody tr th {\n",
       "        vertical-align: top;\n",
       "    }\n",
       "\n",
       "    .dataframe thead th {\n",
       "        text-align: right;\n",
       "    }\n",
       "</style>\n",
       "<table border=\"1\" class=\"dataframe\">\n",
       "  <thead>\n",
       "    <tr style=\"text-align: right;\">\n",
       "      <th></th>\n",
       "      <th>ph</th>\n",
       "      <th>Hardness</th>\n",
       "      <th>Solids</th>\n",
       "      <th>Chloramines</th>\n",
       "      <th>Sulfate</th>\n",
       "      <th>Conductivity</th>\n",
       "      <th>Organic_carbon</th>\n",
       "      <th>Trihalomethanes</th>\n",
       "      <th>Turbidity</th>\n",
       "      <th>Potability</th>\n",
       "    </tr>\n",
       "  </thead>\n",
       "  <tbody>\n",
       "    <tr>\n",
       "      <th>0</th>\n",
       "      <td>3.716080</td>\n",
       "      <td>180.196811</td>\n",
       "      <td>18630.362669</td>\n",
       "      <td>6.330435</td>\n",
       "      <td>0.000000</td>\n",
       "      <td>602.990359</td>\n",
       "      <td>15.285013</td>\n",
       "      <td>56.444076</td>\n",
       "      <td>4.500656</td>\n",
       "      <td>0</td>\n",
       "    </tr>\n",
       "    <tr>\n",
       "      <th>1</th>\n",
       "      <td>4.270716</td>\n",
       "      <td>217.611599</td>\n",
       "      <td>24405.555346</td>\n",
       "      <td>7.086700</td>\n",
       "      <td>297.951852</td>\n",
       "      <td>359.623910</td>\n",
       "      <td>13.583526</td>\n",
       "      <td>54.589840</td>\n",
       "      <td>3.763906</td>\n",
       "      <td>0</td>\n",
       "    </tr>\n",
       "    <tr>\n",
       "      <th>2</th>\n",
       "      <td>6.648849</td>\n",
       "      <td>232.462013</td>\n",
       "      <td>30733.808648</td>\n",
       "      <td>5.656462</td>\n",
       "      <td>344.670335</td>\n",
       "      <td>267.809179</td>\n",
       "      <td>17.863444</td>\n",
       "      <td>35.411181</td>\n",
       "      <td>4.827527</td>\n",
       "      <td>0</td>\n",
       "    </tr>\n",
       "    <tr>\n",
       "      <th>3</th>\n",
       "      <td>0.000000</td>\n",
       "      <td>261.753637</td>\n",
       "      <td>21174.713291</td>\n",
       "      <td>7.314074</td>\n",
       "      <td>0.000000</td>\n",
       "      <td>582.848407</td>\n",
       "      <td>15.215849</td>\n",
       "      <td>90.367455</td>\n",
       "      <td>4.217553</td>\n",
       "      <td>0</td>\n",
       "    </tr>\n",
       "    <tr>\n",
       "      <th>4</th>\n",
       "      <td>9.323584</td>\n",
       "      <td>263.484560</td>\n",
       "      <td>15751.480111</td>\n",
       "      <td>5.196259</td>\n",
       "      <td>297.593625</td>\n",
       "      <td>409.878704</td>\n",
       "      <td>10.727265</td>\n",
       "      <td>74.669285</td>\n",
       "      <td>3.006650</td>\n",
       "      <td>0</td>\n",
       "    </tr>\n",
       "  </tbody>\n",
       "</table>\n",
       "</div>"
      ],
      "text/plain": [
       "         ph    Hardness        Solids  Chloramines     Sulfate  Conductivity  \\\n",
       "0  3.716080  180.196811  18630.362669     6.330435    0.000000    602.990359   \n",
       "1  4.270716  217.611599  24405.555346     7.086700  297.951852    359.623910   \n",
       "2  6.648849  232.462013  30733.808648     5.656462  344.670335    267.809179   \n",
       "3  0.000000  261.753637  21174.713291     7.314074    0.000000    582.848407   \n",
       "4  9.323584  263.484560  15751.480111     5.196259  297.593625    409.878704   \n",
       "\n",
       "   Organic_carbon  Trihalomethanes  Turbidity  Potability  \n",
       "0       15.285013        56.444076   4.500656           0  \n",
       "1       13.583526        54.589840   3.763906           0  \n",
       "2       17.863444        35.411181   4.827527           0  \n",
       "3       15.215849        90.367455   4.217553           0  \n",
       "4       10.727265        74.669285   3.006650           0  "
      ]
     },
     "execution_count": 7,
     "metadata": {},
     "output_type": "execute_result"
    }
   ],
   "source": [
    "data = data.drop(columns = 'region_area_' , axis =1 )\n",
    "data.head()"
   ]
  },
  {
   "cell_type": "code",
   "execution_count": 8,
   "id": "cd179152-c55a-433b-ac7b-c0a82a960616",
   "metadata": {},
   "outputs": [
    {
     "data": {
      "text/html": [
       "<div>\n",
       "<style scoped>\n",
       "    .dataframe tbody tr th:only-of-type {\n",
       "        vertical-align: middle;\n",
       "    }\n",
       "\n",
       "    .dataframe tbody tr th {\n",
       "        vertical-align: top;\n",
       "    }\n",
       "\n",
       "    .dataframe thead th {\n",
       "        text-align: right;\n",
       "    }\n",
       "</style>\n",
       "<table border=\"1\" class=\"dataframe\">\n",
       "  <thead>\n",
       "    <tr style=\"text-align: right;\">\n",
       "      <th></th>\n",
       "      <th>ph</th>\n",
       "      <th>Hardness</th>\n",
       "      <th>Solids</th>\n",
       "      <th>Chloramines</th>\n",
       "      <th>Sulfate</th>\n",
       "      <th>Conductivity</th>\n",
       "      <th>Organic_carbon</th>\n",
       "      <th>Trihalomethanes</th>\n",
       "      <th>Turbidity</th>\n",
       "      <th>Potability</th>\n",
       "    </tr>\n",
       "  </thead>\n",
       "  <tbody>\n",
       "    <tr>\n",
       "      <th>0</th>\n",
       "      <td>3</td>\n",
       "      <td>180</td>\n",
       "      <td>18630</td>\n",
       "      <td>6</td>\n",
       "      <td>0</td>\n",
       "      <td>602</td>\n",
       "      <td>15</td>\n",
       "      <td>56</td>\n",
       "      <td>4</td>\n",
       "      <td>0</td>\n",
       "    </tr>\n",
       "    <tr>\n",
       "      <th>1</th>\n",
       "      <td>4</td>\n",
       "      <td>217</td>\n",
       "      <td>24405</td>\n",
       "      <td>7</td>\n",
       "      <td>297</td>\n",
       "      <td>359</td>\n",
       "      <td>13</td>\n",
       "      <td>54</td>\n",
       "      <td>3</td>\n",
       "      <td>0</td>\n",
       "    </tr>\n",
       "    <tr>\n",
       "      <th>2</th>\n",
       "      <td>6</td>\n",
       "      <td>232</td>\n",
       "      <td>30733</td>\n",
       "      <td>5</td>\n",
       "      <td>344</td>\n",
       "      <td>267</td>\n",
       "      <td>17</td>\n",
       "      <td>35</td>\n",
       "      <td>4</td>\n",
       "      <td>0</td>\n",
       "    </tr>\n",
       "    <tr>\n",
       "      <th>3</th>\n",
       "      <td>0</td>\n",
       "      <td>261</td>\n",
       "      <td>21174</td>\n",
       "      <td>7</td>\n",
       "      <td>0</td>\n",
       "      <td>582</td>\n",
       "      <td>15</td>\n",
       "      <td>90</td>\n",
       "      <td>4</td>\n",
       "      <td>0</td>\n",
       "    </tr>\n",
       "    <tr>\n",
       "      <th>4</th>\n",
       "      <td>9</td>\n",
       "      <td>263</td>\n",
       "      <td>15751</td>\n",
       "      <td>5</td>\n",
       "      <td>297</td>\n",
       "      <td>409</td>\n",
       "      <td>10</td>\n",
       "      <td>74</td>\n",
       "      <td>3</td>\n",
       "      <td>0</td>\n",
       "    </tr>\n",
       "    <tr>\n",
       "      <th>...</th>\n",
       "      <td>...</td>\n",
       "      <td>...</td>\n",
       "      <td>...</td>\n",
       "      <td>...</td>\n",
       "      <td>...</td>\n",
       "      <td>...</td>\n",
       "      <td>...</td>\n",
       "      <td>...</td>\n",
       "      <td>...</td>\n",
       "      <td>...</td>\n",
       "    </tr>\n",
       "    <tr>\n",
       "      <th>2255</th>\n",
       "      <td>8</td>\n",
       "      <td>281</td>\n",
       "      <td>13533</td>\n",
       "      <td>7</td>\n",
       "      <td>314</td>\n",
       "      <td>537</td>\n",
       "      <td>18</td>\n",
       "      <td>58</td>\n",
       "      <td>4</td>\n",
       "      <td>0</td>\n",
       "    </tr>\n",
       "    <tr>\n",
       "      <th>2256</th>\n",
       "      <td>6</td>\n",
       "      <td>245</td>\n",
       "      <td>20919</td>\n",
       "      <td>5</td>\n",
       "      <td>0</td>\n",
       "      <td>393</td>\n",
       "      <td>9</td>\n",
       "      <td>41</td>\n",
       "      <td>4</td>\n",
       "      <td>0</td>\n",
       "    </tr>\n",
       "    <tr>\n",
       "      <th>2257</th>\n",
       "      <td>6</td>\n",
       "      <td>217</td>\n",
       "      <td>24293</td>\n",
       "      <td>6</td>\n",
       "      <td>333</td>\n",
       "      <td>400</td>\n",
       "      <td>16</td>\n",
       "      <td>87</td>\n",
       "      <td>3</td>\n",
       "      <td>0</td>\n",
       "    </tr>\n",
       "    <tr>\n",
       "      <th>2258</th>\n",
       "      <td>6</td>\n",
       "      <td>282</td>\n",
       "      <td>26757</td>\n",
       "      <td>8</td>\n",
       "      <td>0</td>\n",
       "      <td>432</td>\n",
       "      <td>16</td>\n",
       "      <td>73</td>\n",
       "      <td>4</td>\n",
       "      <td>0</td>\n",
       "    </tr>\n",
       "    <tr>\n",
       "      <th>2259</th>\n",
       "      <td>6</td>\n",
       "      <td>256</td>\n",
       "      <td>19397</td>\n",
       "      <td>7</td>\n",
       "      <td>369</td>\n",
       "      <td>489</td>\n",
       "      <td>15</td>\n",
       "      <td>57</td>\n",
       "      <td>2</td>\n",
       "      <td>0</td>\n",
       "    </tr>\n",
       "  </tbody>\n",
       "</table>\n",
       "<p>2260 rows × 10 columns</p>\n",
       "</div>"
      ],
      "text/plain": [
       "      ph  Hardness  Solids  Chloramines  Sulfate  Conductivity  \\\n",
       "0      3       180   18630            6        0           602   \n",
       "1      4       217   24405            7      297           359   \n",
       "2      6       232   30733            5      344           267   \n",
       "3      0       261   21174            7        0           582   \n",
       "4      9       263   15751            5      297           409   \n",
       "...   ..       ...     ...          ...      ...           ...   \n",
       "2255   8       281   13533            7      314           537   \n",
       "2256   6       245   20919            5        0           393   \n",
       "2257   6       217   24293            6      333           400   \n",
       "2258   6       282   26757            8        0           432   \n",
       "2259   6       256   19397            7      369           489   \n",
       "\n",
       "      Organic_carbon  Trihalomethanes  Turbidity  Potability  \n",
       "0                 15               56          4           0  \n",
       "1                 13               54          3           0  \n",
       "2                 17               35          4           0  \n",
       "3                 15               90          4           0  \n",
       "4                 10               74          3           0  \n",
       "...              ...              ...        ...         ...  \n",
       "2255              18               58          4           0  \n",
       "2256               9               41          4           0  \n",
       "2257              16               87          3           0  \n",
       "2258              16               73          4           0  \n",
       "2259              15               57          2           0  \n",
       "\n",
       "[2260 rows x 10 columns]"
      ]
     },
     "execution_count": 8,
     "metadata": {},
     "output_type": "execute_result"
    }
   ],
   "source": [
    "data.astype(int)"
   ]
  },
  {
   "cell_type": "code",
   "execution_count": 9,
   "id": "cf8ce06f-6b0e-49cf-925c-d4ab74bf3d28",
   "metadata": {},
   "outputs": [
    {
     "data": {
      "text/plain": [
       "0    1382\n",
       "1     878\n",
       "Name: Potability, dtype: int64"
      ]
     },
     "execution_count": 9,
     "metadata": {},
     "output_type": "execute_result"
    }
   ],
   "source": [
    "data['Potability'].value_counts()"
   ]
  },
  {
   "cell_type": "code",
   "execution_count": 10,
   "id": "dabad01e-349b-4683-8063-5eaf54297bf5",
   "metadata": {},
   "outputs": [
    {
     "data": {
      "text/html": [
       "<div>\n",
       "<style scoped>\n",
       "    .dataframe tbody tr th:only-of-type {\n",
       "        vertical-align: middle;\n",
       "    }\n",
       "\n",
       "    .dataframe tbody tr th {\n",
       "        vertical-align: top;\n",
       "    }\n",
       "\n",
       "    .dataframe thead th {\n",
       "        text-align: right;\n",
       "    }\n",
       "</style>\n",
       "<table border=\"1\" class=\"dataframe\">\n",
       "  <thead>\n",
       "    <tr style=\"text-align: right;\">\n",
       "      <th></th>\n",
       "      <th>ph</th>\n",
       "      <th>Hardness</th>\n",
       "      <th>Solids</th>\n",
       "      <th>Chloramines</th>\n",
       "      <th>Sulfate</th>\n",
       "      <th>Conductivity</th>\n",
       "      <th>Organic_carbon</th>\n",
       "      <th>Trihalomethanes</th>\n",
       "      <th>Turbidity</th>\n",
       "      <th>Potability</th>\n",
       "    </tr>\n",
       "  </thead>\n",
       "  <tbody>\n",
       "    <tr>\n",
       "      <th>count</th>\n",
       "      <td>2260.000000</td>\n",
       "      <td>2260.000000</td>\n",
       "      <td>2260.000000</td>\n",
       "      <td>2260.000000</td>\n",
       "      <td>2260.000000</td>\n",
       "      <td>2260.000000</td>\n",
       "      <td>2260.000000</td>\n",
       "      <td>2260.000000</td>\n",
       "      <td>2260.000000</td>\n",
       "      <td>2260.000000</td>\n",
       "    </tr>\n",
       "    <tr>\n",
       "      <th>mean</th>\n",
       "      <td>6.030429</td>\n",
       "      <td>247.000935</td>\n",
       "      <td>22100.926521</td>\n",
       "      <td>6.802715</td>\n",
       "      <td>253.615724</td>\n",
       "      <td>436.572437</td>\n",
       "      <td>14.359075</td>\n",
       "      <td>63.176919</td>\n",
       "      <td>3.969176</td>\n",
       "      <td>0.388496</td>\n",
       "    </tr>\n",
       "    <tr>\n",
       "      <th>std</th>\n",
       "      <td>2.919358</td>\n",
       "      <td>33.162065</td>\n",
       "      <td>8829.474740</td>\n",
       "      <td>1.592352</td>\n",
       "      <td>147.982731</td>\n",
       "      <td>80.645313</td>\n",
       "      <td>3.298100</td>\n",
       "      <td>21.437043</td>\n",
       "      <td>0.777228</td>\n",
       "      <td>0.487516</td>\n",
       "    </tr>\n",
       "    <tr>\n",
       "      <th>min</th>\n",
       "      <td>0.000000</td>\n",
       "      <td>124.266124</td>\n",
       "      <td>321.247422</td>\n",
       "      <td>0.047189</td>\n",
       "      <td>0.000000</td>\n",
       "      <td>211.724737</td>\n",
       "      <td>4.476899</td>\n",
       "      <td>0.000000</td>\n",
       "      <td>1.450000</td>\n",
       "      <td>0.000000</td>\n",
       "    </tr>\n",
       "    <tr>\n",
       "      <th>25%</th>\n",
       "      <td>5.279300</td>\n",
       "      <td>226.799112</td>\n",
       "      <td>15761.393491</td>\n",
       "      <td>5.800652</td>\n",
       "      <td>229.843193</td>\n",
       "      <td>376.894507</td>\n",
       "      <td>12.154291</td>\n",
       "      <td>53.926506</td>\n",
       "      <td>3.444178</td>\n",
       "      <td>0.000000</td>\n",
       "    </tr>\n",
       "    <tr>\n",
       "      <th>50%</th>\n",
       "      <td>6.758754</td>\n",
       "      <td>247.379235</td>\n",
       "      <td>21149.453853</td>\n",
       "      <td>6.828266</td>\n",
       "      <td>318.832122</td>\n",
       "      <td>432.813965</td>\n",
       "      <td>14.325645</td>\n",
       "      <td>65.451727</td>\n",
       "      <td>3.962502</td>\n",
       "      <td>0.000000</td>\n",
       "    </tr>\n",
       "    <tr>\n",
       "      <th>75%</th>\n",
       "      <td>7.876045</td>\n",
       "      <td>267.798367</td>\n",
       "      <td>27347.271380</td>\n",
       "      <td>7.802569</td>\n",
       "      <td>351.084910</td>\n",
       "      <td>492.076858</td>\n",
       "      <td>16.625857</td>\n",
       "      <td>76.827376</td>\n",
       "      <td>4.502519</td>\n",
       "      <td>1.000000</td>\n",
       "    </tr>\n",
       "    <tr>\n",
       "      <th>max</th>\n",
       "      <td>13.541240</td>\n",
       "      <td>373.897891</td>\n",
       "      <td>61227.500818</td>\n",
       "      <td>12.822189</td>\n",
       "      <td>481.775755</td>\n",
       "      <td>718.331364</td>\n",
       "      <td>28.405000</td>\n",
       "      <td>124.115000</td>\n",
       "      <td>6.739000</td>\n",
       "      <td>1.000000</td>\n",
       "    </tr>\n",
       "  </tbody>\n",
       "</table>\n",
       "</div>"
      ],
      "text/plain": [
       "                ph     Hardness        Solids  Chloramines      Sulfate  \\\n",
       "count  2260.000000  2260.000000   2260.000000  2260.000000  2260.000000   \n",
       "mean      6.030429   247.000935  22100.926521     6.802715   253.615724   \n",
       "std       2.919358    33.162065   8829.474740     1.592352   147.982731   \n",
       "min       0.000000   124.266124    321.247422     0.047189     0.000000   \n",
       "25%       5.279300   226.799112  15761.393491     5.800652   229.843193   \n",
       "50%       6.758754   247.379235  21149.453853     6.828266   318.832122   \n",
       "75%       7.876045   267.798367  27347.271380     7.802569   351.084910   \n",
       "max      13.541240   373.897891  61227.500818    12.822189   481.775755   \n",
       "\n",
       "       Conductivity  Organic_carbon  Trihalomethanes    Turbidity   Potability  \n",
       "count   2260.000000     2260.000000      2260.000000  2260.000000  2260.000000  \n",
       "mean     436.572437       14.359075        63.176919     3.969176     0.388496  \n",
       "std       80.645313        3.298100        21.437043     0.777228     0.487516  \n",
       "min      211.724737        4.476899         0.000000     1.450000     0.000000  \n",
       "25%      376.894507       12.154291        53.926506     3.444178     0.000000  \n",
       "50%      432.813965       14.325645        65.451727     3.962502     0.000000  \n",
       "75%      492.076858       16.625857        76.827376     4.502519     1.000000  \n",
       "max      718.331364       28.405000       124.115000     6.739000     1.000000  "
      ]
     },
     "execution_count": 10,
     "metadata": {},
     "output_type": "execute_result"
    }
   ],
   "source": [
    "data.describe()"
   ]
  },
  {
   "cell_type": "code",
   "execution_count": 11,
   "id": "8cf94dd3-3070-47b2-a917-dd35c8f987fc",
   "metadata": {},
   "outputs": [],
   "source": [
    "x = data.drop(columns = 'Potability', axis = 1)\n",
    "y = data.iloc[:,-1]"
   ]
  },
  {
   "cell_type": "code",
   "execution_count": 12,
   "id": "00495538-6a2f-445c-a736-ae02022c184b",
   "metadata": {},
   "outputs": [
    {
     "name": "stderr",
     "output_type": "stream",
     "text": [
      "Pass the following variable as a keyword arg: x. From version 0.12, the only valid positional argument will be `data`, and passing other arguments without an explicit keyword will result in an error or misinterpretation.\n"
     ]
    },
    {
     "data": {
      "text/plain": [
       "<AxesSubplot:xlabel='Solids'>"
      ]
     },
     "execution_count": 12,
     "metadata": {},
     "output_type": "execute_result"
    },
    {
     "data": {
      "image/png": "[encoded data removed]",
      "text/plain": [
       "<Figure size 432x288 with 1 Axes>"
      ]
     },
     "metadata": {
      "needs_background": "light"
     },
     "output_type": "display_data"
    }
   ],
   "source": [
    "sns.boxplot(data['Solids'])"
   ]
  },
  {
   "cell_type": "code",
   "execution_count": 13,
   "id": "a9e00e35-e6d6-4901-aad9-a65a967d47bb",
   "metadata": {},
   "outputs": [
    {
     "data": {
      "text/plain": [
       "11585.877889590238"
      ]
     },
     "execution_count": 13,
     "metadata": {},
     "output_type": "execute_result"
    }
   ],
   "source": [
    "q1 = data['Solids'].quantile(0.25)\n",
    "q3 = data['Solids'].quantile(0.75)\n",
    "lqr = q3 - q1\n",
    "lqr"
   ]
  },
  {
   "cell_type": "code",
   "execution_count": 14,
   "id": "58ad7bb5-b01c-4f78-9656-be8d9f9de6f7",
   "metadata": {},
   "outputs": [],
   "source": [
    "ll = q1 - (1.5 * lqr)\n",
    "ul = q3 + (1.5 * lqr) \n",
    "data['Solids'] = np.where(data['Solids'] > ul,ul,data['Solids'])"
   ]
  },
  {
   "cell_type": "code",
   "execution_count": 15,
   "id": "a2a96c4c-5d74-40d3-93aa-6de4b7b82e62",
   "metadata": {},
   "outputs": [
    {
     "name": "stderr",
     "output_type": "stream",
     "text": [
      "Pass the following variable as a keyword arg: x. From version 0.12, the only valid positional argument will be `data`, and passing other arguments without an explicit keyword will result in an error or misinterpretation.\n"
     ]
    },
    {
     "data": {
      "text/plain": [
       "<AxesSubplot:xlabel='Solids'>"
      ]
     },
     "execution_count": 15,
     "metadata": {},
     "output_type": "execute_result"
    },
    {
     "data": {
      "image/png": "[encoded data removed]",
      "text/plain": [
       "<Figure size 432x288 with 1 Axes>"
      ]
     },
     "metadata": {
      "needs_background": "light"
     },
     "output_type": "display_data"
    }
   ],
   "source": [
    "sns.boxplot(data['Solids'])"
   ]
  },
  {
   "cell_type": "code",
   "execution_count": 16,
   "id": "fedf5a74-df0d-4a53-87b5-302a3dde1ce8",
   "metadata": {},
   "outputs": [],
   "source": [
    "# sc = StandardScaler()\n",
    "# x = sc.fit_transform(x)"
   ]
  },
  {
   "cell_type": "code",
   "execution_count": 17,
   "id": "ab32bbad-36bb-4a9a-bfa9-c32587dda261",
   "metadata": {},
   "outputs": [],
   "source": [
    "from imblearn.over_sampling import SMOTE"
   ]
  },
  {
   "cell_type": "code",
   "execution_count": 57,
   "id": "f299da71-f5a6-4b5c-8180-32b9cfd7dccd",
   "metadata": {},
   "outputs": [],
   "source": [
    "sampler = SMOTE(sampling_strategy=0.9,random_state=5)\n",
    "x_sampled,y_sampled = sampler.fit_resample(x,y)"
   ]
  },
  {
   "cell_type": "code",
   "execution_count": 58,
   "id": "8d7dedfd-462e-45a0-89d8-32bc04b5a421",
   "metadata": {},
   "outputs": [
    {
     "data": {
      "text/plain": [
       "0    1382\n",
       "1    1243\n",
       "Name: Potability, dtype: int64"
      ]
     },
     "execution_count": 58,
     "metadata": {},
     "output_type": "execute_result"
    }
   ],
   "source": [
    "y_sampled.value_counts()"
   ]
  },
  {
   "cell_type": "code",
   "execution_count": 59,
   "id": "3f40b19d-f7db-4356-91b6-9dbf9d484643",
   "metadata": {},
   "outputs": [
    {
     "data": {
      "text/plain": [
       "(788,)"
      ]
     },
     "execution_count": 59,
     "metadata": {},
     "output_type": "execute_result"
    }
   ],
   "source": [
    "x_train,x_test,y_train,y_test = train_test_split(x_sampled,y_sampled,test_size= 0.3,random_state= 56)\n",
    "y_test.shape"
   ]
  },
  {
   "cell_type": "code",
   "execution_count": null,
   "id": "5d720068-319a-4143-990c-1e9d30df8a28",
   "metadata": {},
   "outputs": [],
   "source": []
  },
  {
   "cell_type": "markdown",
   "id": "dd7b24ea-711b-4337-9887-2dbc6bda6e5c",
   "metadata": {},
   "source": [
    "## Using RandomForest"
   ]
  },
  {
   "cell_type": "code",
   "execution_count": 60,
   "id": "9e59135f-c6da-4a92-bd6d-19a54b8e3556",
   "metadata": {},
   "outputs": [],
   "source": [
    "model = RandomForestClassifier(n_estimators= 50,random_state=50,n_jobs=5,class_weight='balanced')"
   ]
  },
  {
   "cell_type": "code",
   "execution_count": 61,
   "id": "375f7f91-130e-4a19-957b-e16ac235f62e",
   "metadata": {},
   "outputs": [
    {
     "data": {
      "text/plain": [
       "RandomForestClassifier(class_weight='balanced', n_estimators=50, n_jobs=5,\n",
       "                       random_state=50)"
      ]
     },
     "execution_count": 61,
     "metadata": {},
     "output_type": "execute_result"
    }
   ],
   "source": [
    "model.fit(x_train,y_train)"
   ]
  },
  {
   "cell_type": "code",
   "execution_count": 62,
   "id": "c56677c2-b071-4cf6-8ad3-c2dbc7929089",
   "metadata": {},
   "outputs": [
    {
     "data": {
      "text/plain": [
       "0.6725888324873096"
      ]
     },
     "execution_count": 62,
     "metadata": {},
     "output_type": "execute_result"
    }
   ],
   "source": [
    "model.score(x_test,y_test)"
   ]
  },
  {
   "cell_type": "code",
   "execution_count": 63,
   "id": "21b1098a-0d98-477d-944d-839cb1364ec7",
   "metadata": {},
   "outputs": [
    {
     "data": {
      "text/plain": [
       "1.0"
      ]
     },
     "execution_count": 63,
     "metadata": {},
     "output_type": "execute_result"
    }
   ],
   "source": [
    "model.score(x_train,y_train)"
   ]
  },
  {
   "cell_type": "code",
   "execution_count": 64,
   "id": "ed97e0d9-3bb4-443b-8477-73b861e36c99",
   "metadata": {},
   "outputs": [],
   "source": [
    "y_pred = model.predict(x_test)"
   ]
  },
  {
   "cell_type": "code",
   "execution_count": 65,
   "id": "5c57b663-6e8c-40f0-bea2-a89f0d257ba5",
   "metadata": {},
   "outputs": [
    {
     "name": "stdout",
     "output_type": "stream",
     "text": [
      "              precision    recall  f1-score   support\n",
      "\n",
      "           0       0.65      0.80      0.72       414\n",
      "           1       0.71      0.53      0.61       374\n",
      "\n",
      "    accuracy                           0.67       788\n",
      "   macro avg       0.68      0.67      0.66       788\n",
      "weighted avg       0.68      0.67      0.67       788\n",
      "\n"
     ]
    }
   ],
   "source": [
    "print(classification_report(y_test,y_pred))"
   ]
  },
  {
   "cell_type": "markdown",
   "id": "c2140600-9f16-43c3-90ad-28830fc62b6a",
   "metadata": {},
   "source": [
    "## Using AdaBoost "
   ]
  },
  {
   "cell_type": "code",
   "execution_count": 66,
   "id": "a4cf651e-97a0-4057-810a-05090d7ab20e",
   "metadata": {},
   "outputs": [],
   "source": [
    "model2 = AdaBoostClassifier(random_state=8,n_estimators=700, learning_rate=0.05)"
   ]
  },
  {
   "cell_type": "code",
   "execution_count": 67,
   "id": "dbbe8569-ac97-4695-88b0-cd027b1f547e",
   "metadata": {},
   "outputs": [
    {
     "data": {
      "text/plain": [
       "AdaBoostClassifier(learning_rate=0.05, n_estimators=700, random_state=8)"
      ]
     },
     "execution_count": 67,
     "metadata": {},
     "output_type": "execute_result"
    }
   ],
   "source": [
    "model2.fit(x_train,y_train)"
   ]
  },
  {
   "cell_type": "code",
   "execution_count": 68,
   "id": "c7e1c439-8386-4ce3-9628-7e202c8c6529",
   "metadata": {},
   "outputs": [
    {
     "data": {
      "text/plain": [
       "0.5558375634517766"
      ]
     },
     "execution_count": 68,
     "metadata": {},
     "output_type": "execute_result"
    }
   ],
   "source": [
    "model2.score(x_test,y_test)"
   ]
  },
  {
   "cell_type": "code",
   "execution_count": 69,
   "id": "1600aa15-f2e4-4957-83fa-6571d43f05ca",
   "metadata": {},
   "outputs": [
    {
     "data": {
      "text/plain": [
       "0.6488840500816548"
      ]
     },
     "execution_count": 69,
     "metadata": {},
     "output_type": "execute_result"
    }
   ],
   "source": [
    "model2.score(x_train,y_train)"
   ]
  },
  {
   "cell_type": "code",
   "execution_count": 70,
   "id": "10454eed-5c14-4303-bffa-e89a8053755f",
   "metadata": {},
   "outputs": [],
   "source": [
    "y_pred = model2.predict(x_test)"
   ]
  },
  {
   "cell_type": "code",
   "execution_count": 71,
   "id": "8529fd1d-3ba0-4a84-8507-7d95d42cae04",
   "metadata": {},
   "outputs": [
    {
     "name": "stdout",
     "output_type": "stream",
     "text": [
      "              precision    recall  f1-score   support\n",
      "\n",
      "           0       0.57      0.62      0.60       414\n",
      "           1       0.54      0.48      0.51       374\n",
      "\n",
      "    accuracy                           0.56       788\n",
      "   macro avg       0.55      0.55      0.55       788\n",
      "weighted avg       0.55      0.56      0.55       788\n",
      "\n"
     ]
    }
   ],
   "source": [
    "print(classification_report(y_test,y_pred))"
   ]
  },
  {
   "cell_type": "markdown",
   "id": "dd22caa9-656b-4bd2-ba1c-81df113f8ec3",
   "metadata": {},
   "source": [
    "## using DecisionTree Model"
   ]
  },
  {
   "cell_type": "code",
   "execution_count": 72,
   "id": "676174b6-2dfe-4cdf-8678-17580578fb7c",
   "metadata": {},
   "outputs": [],
   "source": [
    "model3 = DecisionTreeClassifier(max_depth=6,random_state= 9,class_weight='balanced')"
   ]
  },
  {
   "cell_type": "code",
   "execution_count": 73,
   "id": "d322c65e-a0c3-42d0-8aa7-3031dc2381bf",
   "metadata": {},
   "outputs": [
    {
     "data": {
      "text/plain": [
       "DecisionTreeClassifier(class_weight='balanced', max_depth=6, random_state=9)"
      ]
     },
     "execution_count": 73,
     "metadata": {},
     "output_type": "execute_result"
    }
   ],
   "source": [
    "model3.fit(x_train,y_train)"
   ]
  },
  {
   "cell_type": "code",
   "execution_count": 74,
   "id": "ec86349b-89a9-4f47-a4c5-d1e7133628a0",
   "metadata": {},
   "outputs": [
    {
     "data": {
      "text/plain": [
       "0.5761421319796954"
      ]
     },
     "execution_count": 74,
     "metadata": {},
     "output_type": "execute_result"
    }
   ],
   "source": [
    "model3.score(x_test,y_test)"
   ]
  },
  {
   "cell_type": "code",
   "execution_count": 75,
   "id": "a878bcba-6543-4e54-8ed0-23c1bdf9c400",
   "metadata": {},
   "outputs": [
    {
     "data": {
      "text/plain": [
       "0.6608600979858464"
      ]
     },
     "execution_count": 75,
     "metadata": {},
     "output_type": "execute_result"
    }
   ],
   "source": [
    "model3.score(x_train,y_train)"
   ]
  },
  {
   "cell_type": "code",
   "execution_count": 76,
   "id": "b44e57bc-6c7a-48e0-8731-255454af9340",
   "metadata": {},
   "outputs": [
    {
     "name": "stdout",
     "output_type": "stream",
     "text": [
      "              precision    recall  f1-score   support\n",
      "\n",
      "           0       0.58      0.71      0.64       414\n",
      "           1       0.57      0.43      0.49       374\n",
      "\n",
      "    accuracy                           0.58       788\n",
      "   macro avg       0.58      0.57      0.56       788\n",
      "weighted avg       0.58      0.58      0.57       788\n",
      "\n"
     ]
    }
   ],
   "source": [
    "y_pred = model3.predict(x_test)\n",
    "print(classification_report(y_test,y_pred))"
   ]
  },
  {
   "cell_type": "code",
   "execution_count": 77,
   "id": "fba886c2-7ef6-46f1-800b-5be1a5e37efe",
   "metadata": {},
   "outputs": [],
   "source": [
    "pram = {'max_depth': [5,6,8,9,10],\n",
    "        'min_samples_leaf':np.arange(2,6),\n",
    "        'max_features': ['auto', 'sqrt','log2']}"
   ]
  },
  {
   "cell_type": "code",
   "execution_count": 78,
   "id": "59091cde-48bb-46d8-8562-4741a193456d",
   "metadata": {},
   "outputs": [],
   "source": [
    "grid = GridSearchCV(estimator = model, param_grid= pram, n_jobs= -1,verbose=5, cv=9)"
   ]
  },
  {
   "cell_type": "code",
   "execution_count": 79,
   "id": "eb15025a-beff-47f0-893a-edfdaf59cb74",
   "metadata": {},
   "outputs": [
    {
     "name": "stdout",
     "output_type": "stream",
     "text": [
      "Fitting 9 folds for each of 60 candidates, totalling 540 fits\n"
     ]
    },
    {
     "data": {
      "text/plain": [
       "GridSearchCV(cv=9,\n",
       "             estimator=RandomForestClassifier(class_weight='balanced',\n",
       "                                              n_estimators=50, n_jobs=5,\n",
       "                                              random_state=50),\n",
       "             n_jobs=-1,\n",
       "             param_grid={'max_depth': [5, 6, 8, 9, 10],\n",
       "                         'max_features': ['auto', 'sqrt', 'log2'],\n",
       "                         'min_samples_leaf': array([2, 3, 4, 5])},\n",
       "             verbose=5)"
      ]
     },
     "execution_count": 79,
     "metadata": {},
     "output_type": "execute_result"
    }
   ],
   "source": [
    "grid.fit(x_train,y_train)"
   ]
  },
  {
   "cell_type": "code",
   "execution_count": 80,
   "id": "a902fea2-64b3-49a7-a38e-0433b76fb6cc",
   "metadata": {},
   "outputs": [
    {
     "data": {
      "text/plain": [
       "0.6370558375634517"
      ]
     },
     "execution_count": 80,
     "metadata": {},
     "output_type": "execute_result"
    }
   ],
   "source": [
    "grid.score(x_test,y_test)"
   ]
  },
  {
   "cell_type": "code",
   "execution_count": 81,
   "id": "e87a1098-1484-455f-8f0c-99fa0101b873",
   "metadata": {},
   "outputs": [
    {
     "data": {
      "text/plain": [
       "0.9292324442025041"
      ]
     },
     "execution_count": 81,
     "metadata": {},
     "output_type": "execute_result"
    }
   ],
   "source": [
    "grid.score(x_train,y_train)"
   ]
  },
  {
   "cell_type": "code",
   "execution_count": 82,
   "id": "2d64d371-6c74-4ce4-a60a-62511e5082ae",
   "metadata": {},
   "outputs": [
    {
     "name": "stdout",
     "output_type": "stream",
     "text": [
      "              precision    recall  f1-score   support\n",
      "\n",
      "           0       0.64      0.70      0.67       414\n",
      "           1       0.63      0.57      0.60       374\n",
      "\n",
      "    accuracy                           0.64       788\n",
      "   macro avg       0.64      0.63      0.63       788\n",
      "weighted avg       0.64      0.64      0.64       788\n",
      "\n"
     ]
    }
   ],
   "source": [
    "y_pred = grid.predict(x_test)\n",
    "print(classification_report(y_test,y_pred))"
   ]
  },
  {
   "cell_type": "markdown",
   "id": "4cb14309-4fe3-4500-881b-496be8e8b937",
   "metadata": {},
   "source": [
    "## Using Voting Classifier"
   ]
  },
  {
   "cell_type": "code",
   "execution_count": 83,
   "id": "6055c4b0-027c-4b3a-a7f0-8a907f1c6aa7",
   "metadata": {},
   "outputs": [],
   "source": [
    "vc = VotingClassifier([('model1',model),('model2',model2),('model3',model3)])"
   ]
  },
  {
   "cell_type": "code",
   "execution_count": 84,
   "id": "ead41ef3-81ec-416f-b70f-1c767688560b",
   "metadata": {},
   "outputs": [
    {
     "data": {
      "text/plain": [
       "VotingClassifier(estimators=[('model1',\n",
       "                              RandomForestClassifier(class_weight='balanced',\n",
       "                                                     n_estimators=50, n_jobs=5,\n",
       "                                                     random_state=50)),\n",
       "                             ('model2',\n",
       "                              AdaBoostClassifier(learning_rate=0.05,\n",
       "                                                 n_estimators=700,\n",
       "                                                 random_state=8)),\n",
       "                             ('model3',\n",
       "                              DecisionTreeClassifier(class_weight='balanced',\n",
       "                                                     max_depth=6,\n",
       "                                                     random_state=9))])"
      ]
     },
     "execution_count": 84,
     "metadata": {},
     "output_type": "execute_result"
    }
   ],
   "source": [
    "vc.fit(x_train,y_train)"
   ]
  },
  {
   "cell_type": "code",
   "execution_count": 85,
   "id": "5979e4f9-23b7-4936-894b-0fae5f356c15",
   "metadata": {},
   "outputs": [
    {
     "data": {
      "text/plain": [
       "0.6294416243654822"
      ]
     },
     "execution_count": 85,
     "metadata": {},
     "output_type": "execute_result"
    }
   ],
   "source": [
    "vc.score(x_test,y_test)"
   ]
  },
  {
   "cell_type": "code",
   "execution_count": 47,
   "id": "05e32b06-fcaa-4e61-b94b-41f86bde9bd3",
   "metadata": {},
   "outputs": [
    {
     "data": {
      "text/plain": [
       "0.7725060827250608"
      ]
     },
     "execution_count": 47,
     "metadata": {},
     "output_type": "execute_result"
    }
   ],
   "source": [
    "vc.score(x_train,y_train)"
   ]
  },
  {
   "cell_type": "code",
   "execution_count": 48,
   "id": "55eaba7b-0884-4332-b947-c6922b18c093",
   "metadata": {},
   "outputs": [
    {
     "name": "stdout",
     "output_type": "stream",
     "text": [
      "              precision    recall  f1-score   support\n",
      "\n",
      "           0       0.64      0.91      0.75       414\n",
      "           1       0.67      0.27      0.39       291\n",
      "\n",
      "    accuracy                           0.64       705\n",
      "   macro avg       0.65      0.59      0.57       705\n",
      "weighted avg       0.65      0.64      0.60       705\n",
      "\n"
     ]
    }
   ],
   "source": [
    "y_pred = vc.predict(x_test)\n",
    "print(classification_report(y_test,y_pred))"
   ]
  },
  {
   "cell_type": "markdown",
   "id": "5923b028-7a64-41ef-808e-2fae25fea6b5",
   "metadata": {},
   "source": [
    "## Explainable AI on RandomForest\n"
   ]
  },
  {
   "cell_type": "code",
   "execution_count": 87,
   "id": "e1aa9ba3-05c1-48c2-b8ee-5dcd88eaf194",
   "metadata": {},
   "outputs": [],
   "source": [
    "explainer = shap.TreeExplainer(model3)"
   ]
  },
  {
   "cell_type": "code",
   "execution_count": 88,
   "id": "2d43f4d4-1f5d-44b0-bd75-6ba043f1749c",
   "metadata": {},
   "outputs": [
    {
     "data": {
      "text/plain": [
       "array([0.5, 0.5])"
      ]
     },
     "execution_count": 88,
     "metadata": {},
     "output_type": "execute_result"
    }
   ],
   "source": [
    "base_value = explainer.expected_value\n",
    "base_value"
   ]
  },
  {
   "cell_type": "code",
   "execution_count": 89,
   "id": "fd28571c-6ee6-4cc7-a2f0-4fb24511cd28",
   "metadata": {},
   "outputs": [],
   "source": [
    "shap_value = explainer.shap_values(x_test)"
   ]
  },
  {
   "cell_type": "code",
   "execution_count": 90,
   "id": "31e76cb2-6f9b-4b37-8645-089db85bc287",
   "metadata": {},
   "outputs": [
    {
     "data": {
      "image/png": "[encoded data removed]",
      "text/plain": [
       "<Figure size 576x367.2 with 1 Axes>"
      ]
     },
     "metadata": {
      "needs_background": "light"
     },
     "output_type": "display_data"
    }
   ],
   "source": [
    "shap.summary_plot(shap_value, x_test)"
   ]
  },
  {
   "cell_type": "markdown",
   "id": "2aa5ddc1-9249-4b54-af26-b0fc3adbc0d7",
   "metadata": {},
   "source": [
    "## Explaining DecisionTree Model "
   ]
  },
  {
   "cell_type": "code",
   "execution_count": 91,
   "id": "fa66459f-7b6f-4daa-b7dd-68049f9d9bef",
   "metadata": {},
   "outputs": [
    {
     "data": {
      "image/png": "[encoded data removed]",
      "text/plain": [
       "<Figure size 2160x1440 with 1 Axes>"
      ]
     },
     "metadata": {
      "needs_background": "light"
     },
     "output_type": "display_data"
    }
   ],
   "source": [
    "fig = plt.figure(figsize = (30,20))\n",
    "_ = plot_tree(model3,feature_names = x.columns,class_names = ['0','1'],filled = True,max_depth = 3)"
   ]
  },
  {
   "cell_type": "code",
   "execution_count": null,
   "id": "5bda80df-ad4e-4d4b-9d95-4d724bf8a606",
   "metadata": {},
   "outputs": [],
   "source": []
  },
  {
   "cell_type": "code",
   "execution_count": null,
   "id": "babf6136-1c5b-4791-b23f-3df38a9cab05",
   "metadata": {},
   "outputs": [],
   "source": []
  },
  {
   "cell_type": "code",
   "execution_count": null,
   "id": "092b2b2d-353a-4147-9f85-af9b4d023393",
   "metadata": {},
   "outputs": [],
   "source": []
  },
  {
   "cell_type": "code",
   "execution_count": null,
   "id": "3cb83b00-98bb-4569-8e11-d7aaaa0bd7b0",
   "metadata": {},
   "outputs": [],
   "source": []
  },
  {
   "cell_type": "code",
   "execution_count": null,
   "id": "a3aa1e22-42e8-41c0-9421-f3cacad0c628",
   "metadata": {},
   "outputs": [],
   "source": []
  },
  {
   "cell_type": "code",
   "execution_count": null,
   "id": "3d5ec7e7-be7e-4f76-9591-6d19fc0770e9",
   "metadata": {},
   "outputs": [],
   "source": []
  },
  {
   "cell_type": "code",
   "execution_count": null,
   "id": "d0d67201-9c15-42a0-946e-761c82c08bc6",
   "metadata": {},
   "outputs": [],
   "source": []
  },
  {
   "cell_type": "code",
   "execution_count": null,
   "id": "4ea70f85-0d8e-40cf-8c93-0d5556552315",
   "metadata": {},
   "outputs": [],
   "source": []
  },
  {
   "cell_type": "code",
   "execution_count": null,
   "id": "db32af32-0929-4121-976a-e24e201536a3",
   "metadata": {},
   "outputs": [],
   "source": []
  },
  {
   "cell_type": "code",
   "execution_count": null,
   "id": "ef93ee80-0e38-4fc7-bac2-1ca391c92875",
   "metadata": {},
   "outputs": [],
   "source": []
  },
  {
   "cell_type": "code",
   "execution_count": null,
   "id": "0f2436cd-00bb-49d5-9e40-bdd7dc8ef0a2",
   "metadata": {},
   "outputs": [],
   "source": []
  },
  {
   "cell_type": "code",
   "execution_count": null,
   "id": "fcec17d6-1d95-4eb2-9327-a010189381c6",
   "metadata": {},
   "outputs": [],
   "source": []
  },
  {
   "cell_type": "code",
   "execution_count": null,
   "id": "84d6ddbe-eaf1-48ea-8117-852a3e869a55",
   "metadata": {},
   "outputs": [],
   "source": []
  },
  {
   "cell_type": "code",
   "execution_count": null,
   "id": "d88173e2-aa4d-46c8-b082-dc34ffeb7ce6",
   "metadata": {},
   "outputs": [],
   "source": []
  },
  {
   "cell_type": "code",
   "execution_count": null,
   "id": "5caaf47d-ec8c-48d3-b58b-df6999de22c2",
   "metadata": {},
   "outputs": [],
   "source": []
  },
  {
   "cell_type": "code",
   "execution_count": null,
   "id": "8721bb71-1c67-4584-bccd-c96ffa62700c",
   "metadata": {},
   "outputs": [],
   "source": []
  },
  {
   "cell_type": "code",
   "execution_count": null,
   "id": "cfe5bc52-19f4-408c-bafd-d317e09f53c6",
   "metadata": {},
   "outputs": [],
   "source": []
  },
  {
   "cell_type": "code",
   "execution_count": null,
   "id": "05e74843-983f-42cb-9d56-f770a22bd9f7",
   "metadata": {},
   "outputs": [],
   "source": []
  },
  {
   "cell_type": "code",
   "execution_count": null,
   "id": "fa134e22-7dea-4a84-8999-4fd877e965b8",
   "metadata": {},
   "outputs": [],
   "source": []
  },
  {
   "cell_type": "code",
   "execution_count": null,
   "id": "15fe37eb-e744-47bd-84fc-a9ff1a6baf81",
   "metadata": {},
   "outputs": [],
   "source": []
  },
  {
   "cell_type": "code",
   "execution_count": null,
   "id": "96528953-9a30-4cab-931b-a2783e701d63",
   "metadata": {},
   "outputs": [],
   "source": []
  }
 ],
 "metadata": {
  "kernelspec": {
   "display_name": "Python 3",
   "language": "python",
   "name": "python3"
  },
  "language_info": {
   "codemirror_mode": {
    "name": "ipython",
    "version": 3
   },
   "file_extension": ".py",
   "mimetype": "text/x-python",
   "name": "python",
   "nbconvert_exporter": "python",
   "pygments_lexer": "ipython3",
   "version": "3.8.8"
  }
 },
 "nbformat": 4,
 "nbformat_minor": 5
}
